{
 "cells": [
  {
   "cell_type": "code",
   "execution_count": 30,
   "metadata": {},
   "outputs": [],
   "source": [
    "import os\n",
    "import sys\n",
    "import numpy as np\n",
    "import cv2\n",
    "import lungs_finder as lf\n",
    "from tqdm import tqdm\n",
    "\n",
    "def scan(DATA_PATH, to_directory):\n",
    "    i=0\n",
    "    pole1=0\n",
    "    pole2=0\n",
    "    pole3=0\n",
    "    for filename in tqdm(os.listdir(DATA_PATH)):\n",
    "        path = os.path.join(DATA_PATH,filename)\n",
    "        image = cv2.imread(path, 0)\n",
    "        image = cv2.equalizeHist(image)\n",
    "        image = cv2.medianBlur(image, 3)\n",
    "\n",
    "\n",
    "        scaled_image = image# cv2.resize(image, (1024,1024))\n",
    "        right_lung_hog_rectangle = lf.find_right_lung_hog(scaled_image)\n",
    "        left_lung_hog_rectangle = lf.find_left_lung_hog(scaled_image)\n",
    "        right_lung_lbp_rectangle = lf.find_right_lung_lbp(scaled_image)\n",
    "        left_lung_lbp_rectangle = lf.find_left_lung_lbp(scaled_image)\n",
    "        right_lung_haar_rectangle = lf.find_right_lung_haar(scaled_image)\n",
    "        left_lung_haar_rectangle = lf.find_left_lung_haar(scaled_image)\n",
    "        color_image = cv2.cvtColor(scaled_image, cv2.COLOR_GRAY2BGR)\n",
    "\n",
    "        metoda = 0\n",
    "\n",
    "        if (right_lung_hog_rectangle is not None) and (left_lung_hog_rectangle is not None) :\n",
    "            x1, y1, width1, height1 = right_lung_hog_rectangle\n",
    "            x2, y2, width2, height2 = left_lung_hog_rectangle\n",
    "            cimage1 = scaled_image[np.minimum(y1, y2):np.maximum(y1+height1, y2+height2),x1:x2+width2] \n",
    "            pole1 = width1*height1+width2*height2\n",
    "            metoda = 1 \n",
    "\n",
    "        if (right_lung_lbp_rectangle is not None) and (left_lung_lbp_rectangle is not None):\n",
    "            x1, y1, width1, height1 = right_lung_lbp_rectangle\n",
    "            x2, y2, width2, height2 = left_lung_lbp_rectangle              \n",
    "            cimage2 = scaled_image[np.minimum(y1, y2):np.maximum(y1+height1, y2+height2),x1:x2+width2] \n",
    "            pole2 = width1*height1+width2*height2\n",
    "            metoda = 2\n",
    "\n",
    "        if (right_lung_haar_rectangle is not None) and (left_lung_haar_rectangle is not None):\n",
    "            x1, y1, width1, height1 = right_lung_haar_rectangle\n",
    "            x2, y2, width2, height2 = left_lung_haar_rectangle\n",
    "            cimage3 = scaled_image[np.minimum(y1, y2):np.maximum(y1+height1, y2+height2),x1:x2+width2] \n",
    "            pole3 = width1*height1+width2*height2\n",
    "            metoda = 3\n",
    "\n",
    "        #cv2.imshow(\"lungs-finder\", cimage)\n",
    "        if (pole1 >= pole2) and (pole1 >= pole3) and (pole1>0):\n",
    "            cimage = cimage1\n",
    "        if (pole2 > pole1) and (pole2 >= pole3):\n",
    "            cimage = cimage2\n",
    "        if (pole3 > pole1) and (pole3 > pole2):\n",
    "            cimage = cimage3\n",
    "        if (cimage.shape[0]>0) and (cimage.shape[1]>0):\n",
    "            cropped = cv2.resize(cimage, (224,224))\n",
    "            path_to_save = to_directory\n",
    "            im_name=str(i)\n",
    "            im_path = os.path.join(path_to_save, f'{im_name}.jpg') \n",
    "            cv2.imwrite(im_path, cropped) \n",
    "            i=i+1\n",
    "\n"
   ]
  },
  {
   "cell_type": "code",
   "execution_count": 36,
   "metadata": {},
   "outputs": [
    {
     "name": "stderr",
     "output_type": "stream",
     "text": [
      "100%|██████████████████████████████████████████████████████████████████████████████| 1345/1345 [06:24<00:00,  3.50it/s]\n"
     ]
    }
   ],
   "source": [
    "from_directory = 'H:/Projekty/Dane/COVID-19 Radiography Database/pneumonia/not_cropped/class_c'\n",
    "to_directory = 'H:/Projekty/Dane/COVID-19 Radiography Database/pneumonia/cropped/class_c'\n",
    "scan(from_directory, to_directory)"
   ]
  },
  {
   "cell_type": "code",
   "execution_count": 33,
   "metadata": {},
   "outputs": [],
   "source": [
    "#!pip install lungs-finder"
   ]
  },
  {
   "cell_type": "code",
   "execution_count": 16,
   "metadata": {},
   "outputs": [
    {
     "data": {
      "text/plain": [
       "'H:\\\\Projekty\\\\Dane\\\\COVID-19 Radiography Database\\\\jedno\\\\1.jpg'"
      ]
     },
     "execution_count": 16,
     "metadata": {},
     "output_type": "execute_result"
    }
   ],
   "source": [
    "\n"
   ]
  },
  {
   "cell_type": "code",
   "execution_count": null,
   "metadata": {},
   "outputs": [],
   "source": []
  }
 ],
 "metadata": {
  "kernelspec": {
   "display_name": "Python 3.7 (tensorflow)",
   "language": "python",
   "name": "tensorflow"
  },
  "language_info": {
   "codemirror_mode": {
    "name": "ipython",
    "version": 3
   },
   "file_extension": ".py",
   "mimetype": "text/x-python",
   "name": "python",
   "nbconvert_exporter": "python",
   "pygments_lexer": "ipython3",
   "version": "3.7.7"
  }
 },
 "nbformat": 4,
 "nbformat_minor": 4
}
